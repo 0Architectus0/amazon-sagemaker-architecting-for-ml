{
 "cells": [
  {
   "cell_type": "markdown",
   "metadata": {},
   "source": [
    "# Introduction to Pandas for Feature Engineering\n",
    "Welcome! If you are looking for a short and sweet, but effective, introduction to some of the coding steps required to perform feature engineering and data analysis for machine learning, look no further. \n",
    "\n",
    "This notebook will use a genomics data set, analyze it, and prepare it for machine learning modeling. \n",
    "\n",
    "I'm assuming you are familiar with writing and reading code, and that you've touched some Python syntax. I'll help ramp you up, very quickly."
   ]
  },
  {
   "cell_type": "markdown",
   "metadata": {},
   "source": [
    "### Get libraries\n",
    "First, we'll want to reference the open source libraries that make all of this possible. I'm using Pandas as my backbone here, but we'll build ontop of that as we need more and more libraries."
   ]
  },
  {
   "cell_type": "code",
   "execution_count": 8,
   "metadata": {},
   "outputs": [],
   "source": [
    "import pandas as pd "
   ]
  },
  {
   "cell_type": "markdown",
   "metadata": {},
   "source": [
    "### Get some data\n",
    "Ok! We're going to pull some genomics data, in particular with respect to its relationshp to human health. This is a public dataset coming from ClinVar.\n",
    "- https://www.ncbi.nlm.nih.gov/clinvar/ "
   ]
  },
  {
   "cell_type": "code",
   "execution_count": 5,
   "metadata": {},
   "outputs": [
    {
     "name": "stdout",
     "output_type": "stream",
     "text": [
      "--2019-08-13 17:48:33--  ftp://ftp.ncbi.nlm.nih.gov/pub/clinvar/vcf_GRCh37/clinvar.vcf.gz\n",
      "           => ‘clinvar.vcf.gz’\n",
      "Resolving ftp.ncbi.nlm.nih.gov (ftp.ncbi.nlm.nih.gov)... 130.14.250.12, 2607:f220:41e:250::11\n",
      "Connecting to ftp.ncbi.nlm.nih.gov (ftp.ncbi.nlm.nih.gov)|130.14.250.12|:21... connected.\n",
      "Logging in as anonymous ... Logged in!\n",
      "==> SYST ... done.    ==> PWD ... done.\n",
      "==> TYPE I ... done.  ==> CWD (1) /pub/clinvar/vcf_GRCh37 ... done.\n",
      "==> SIZE clinvar.vcf.gz ... 19531482\n",
      "==> PASV ... done.    ==> RETR clinvar.vcf.gz ... done.\n",
      "Length: 19531482 (19M) (unauthoritative)\n",
      "\n",
      "clinvar.vcf.gz      100%[===================>]  18.63M  --.-KB/s    in 0.08s   \n",
      "\n",
      "2019-08-13 17:48:34 (247 MB/s) - ‘clinvar.vcf.gz’ saved [19531482]\n",
      "\n"
     ]
    }
   ],
   "source": [
    "!wget ftp://ftp.ncbi.nlm.nih.gov/pub/clinvar/vcf_GRCh37/clinvar.vcf.gz"
   ]
  },
  {
   "cell_type": "markdown",
   "metadata": {},
   "source": [
    "### Load into a Pandas DataFrame"
   ]
  },
  {
   "cell_type": "markdown",
   "metadata": {},
   "source": [
    "If you're thinking, now what on Earth is a .vcf file, that makes two of us! Fortunately the kind developers who announced this dataset also have a script that converts this into a csv file. That script is hosted on Github, right here: \n",
    "- https://github.com/arvkevi/clinvar-kaggle/blob/master/process_clinvar.py \n",
    "\n",
    "Let's clone that repository, and run this script."
   ]
  },
  {
   "cell_type": "code",
   "execution_count": 3,
   "metadata": {},
   "outputs": [
    {
     "name": "stdout",
     "output_type": "stream",
     "text": [
      "Cloning into 'clinvar-kaggle'...\n",
      "remote: Enumerating objects: 66, done.\u001b[K\n",
      "remote: Total 66 (delta 0), reused 0 (delta 0), pack-reused 66\u001b[K\n",
      "Unpacking objects: 100% (66/66), done.\n"
     ]
    }
   ],
   "source": [
    "!git clone https://github.com/arvkevi/clinvar-kaggle.git"
   ]
  },
  {
   "cell_type": "code",
   "execution_count": 6,
   "metadata": {},
   "outputs": [
    {
     "name": "stdout",
     "output_type": "stream",
     "text": [
      "clinvar-kaggle/process_clinvar.py:50: FutureWarning: set_value is deprecated and will be removed in a future release. Please use .at[] or .iat[] accessors instead\r\n",
      "  cv_df.set_value(cv_df.CLNSIGCONF.notnull(), 'CLASS', 1)\r\n"
     ]
    }
   ],
   "source": [
    "!cp clinvar.vcf.gz clinvar-kaggle\n",
    "!python clinvar-kaggle/process_clinvar.py"
   ]
  },
  {
   "cell_type": "code",
   "execution_count": 11,
   "metadata": {},
   "outputs": [],
   "source": [
    "!cp clinvar_conflicting.csv raw_data.csv"
   ]
  },
  {
   "cell_type": "markdown",
   "metadata": {},
   "source": [
    "If you're able to run that copy command, then you successfully converted the vcf file! Congrats. Now, let's load that into a dataframe. Based on the Python KungFu that was performed by Kevin Arvkei, now we can use the single most import function in pandas `pd.read_csv()`. \n",
    "\n",
    "You'll want to make sure you have `import pandas as pd` in order to use the `read_csv` method. It just needs a csv file name, and it will turn that into a dataframe."
   ]
  },
  {
   "cell_type": "code",
   "execution_count": 9,
   "metadata": {},
   "outputs": [
    {
     "name": "stderr",
     "output_type": "stream",
     "text": [
      "/home/ec2-user/anaconda3/envs/python3/lib/python3.6/site-packages/IPython/core/interactiveshell.py:2785: DtypeWarning: Columns (0) have mixed types. Specify dtype option on import or set low_memory=False.\n",
      "  interactivity=interactivity, compiler=compiler, result=result)\n"
     ]
    }
   ],
   "source": [
    "df = pd.read_csv('clinvar_conflicting.csv')"
   ]
  },
  {
   "cell_type": "markdown",
   "metadata": {},
   "source": [
    "As long as that worked, now you'll perform the second most commonly used function in Pandas. `df.head()`. That gives you a visual confirmation on all of your data. Give it a try!"
   ]
  },
  {
   "cell_type": "code",
   "execution_count": 10,
   "metadata": {},
   "outputs": [
    {
     "data": {
      "text/html": [
       "<div>\n",
       "<style scoped>\n",
       "    .dataframe tbody tr th:only-of-type {\n",
       "        vertical-align: middle;\n",
       "    }\n",
       "\n",
       "    .dataframe tbody tr th {\n",
       "        vertical-align: top;\n",
       "    }\n",
       "\n",
       "    .dataframe thead th {\n",
       "        text-align: right;\n",
       "    }\n",
       "</style>\n",
       "<table border=\"1\" class=\"dataframe\">\n",
       "  <thead>\n",
       "    <tr style=\"text-align: right;\">\n",
       "      <th></th>\n",
       "      <th>CHROM</th>\n",
       "      <th>POS</th>\n",
       "      <th>REF</th>\n",
       "      <th>ALT</th>\n",
       "      <th>AF_ESP</th>\n",
       "      <th>AF_EXAC</th>\n",
       "      <th>AF_TGP</th>\n",
       "      <th>CLNDISDB</th>\n",
       "      <th>CLNDN</th>\n",
       "      <th>CLNHGVS</th>\n",
       "      <th>CLNVC</th>\n",
       "      <th>GENEINFO</th>\n",
       "      <th>MC</th>\n",
       "      <th>ORIGIN</th>\n",
       "      <th>CLNVI</th>\n",
       "      <th>CLNDISDBINCL</th>\n",
       "      <th>CLNDNINCL</th>\n",
       "      <th>CLNSIGINCL</th>\n",
       "      <th>CLASS</th>\n",
       "    </tr>\n",
       "  </thead>\n",
       "  <tbody>\n",
       "    <tr>\n",
       "      <th>0</th>\n",
       "      <td>1</td>\n",
       "      <td>955563</td>\n",
       "      <td>G</td>\n",
       "      <td>C</td>\n",
       "      <td>0.00000</td>\n",
       "      <td>0.00114</td>\n",
       "      <td>0.00958</td>\n",
       "      <td>MedGen:C3808739,OMIM:615120|MedGen:CN169374</td>\n",
       "      <td>Myasthenic_syndrome,_congenital,_8|not_specified</td>\n",
       "      <td>NC_000001.10:g.955563G&gt;C</td>\n",
       "      <td>single_nucleotide_variant</td>\n",
       "      <td>AGRN:375790</td>\n",
       "      <td>SO:0001583|missense_variant</td>\n",
       "      <td>1.0</td>\n",
       "      <td>NaN</td>\n",
       "      <td>NaN</td>\n",
       "      <td>NaN</td>\n",
       "      <td>NaN</td>\n",
       "      <td>0</td>\n",
       "    </tr>\n",
       "    <tr>\n",
       "      <th>1</th>\n",
       "      <td>1</td>\n",
       "      <td>955597</td>\n",
       "      <td>G</td>\n",
       "      <td>T</td>\n",
       "      <td>0.00000</td>\n",
       "      <td>0.42418</td>\n",
       "      <td>0.28255</td>\n",
       "      <td>MedGen:CN169374</td>\n",
       "      <td>not_specified</td>\n",
       "      <td>NC_000001.10:g.955597G&gt;T</td>\n",
       "      <td>single_nucleotide_variant</td>\n",
       "      <td>AGRN:375790</td>\n",
       "      <td>SO:0001819|synonymous_variant</td>\n",
       "      <td>1.0</td>\n",
       "      <td>NaN</td>\n",
       "      <td>NaN</td>\n",
       "      <td>NaN</td>\n",
       "      <td>NaN</td>\n",
       "      <td>0</td>\n",
       "    </tr>\n",
       "    <tr>\n",
       "      <th>2</th>\n",
       "      <td>1</td>\n",
       "      <td>955619</td>\n",
       "      <td>G</td>\n",
       "      <td>C</td>\n",
       "      <td>0.00000</td>\n",
       "      <td>0.03475</td>\n",
       "      <td>0.00879</td>\n",
       "      <td>MedGen:C3808739,OMIM:615120|MedGen:CN169374|Me...</td>\n",
       "      <td>Myasthenic_syndrome,_congenital,_8|not_specifi...</td>\n",
       "      <td>NC_000001.10:g.955619G&gt;C</td>\n",
       "      <td>single_nucleotide_variant</td>\n",
       "      <td>AGRN:375790</td>\n",
       "      <td>SO:0001583|missense_variant</td>\n",
       "      <td>1.0</td>\n",
       "      <td>NaN</td>\n",
       "      <td>NaN</td>\n",
       "      <td>NaN</td>\n",
       "      <td>NaN</td>\n",
       "      <td>1</td>\n",
       "    </tr>\n",
       "    <tr>\n",
       "      <th>3</th>\n",
       "      <td>1</td>\n",
       "      <td>957568</td>\n",
       "      <td>A</td>\n",
       "      <td>G</td>\n",
       "      <td>0.01761</td>\n",
       "      <td>0.00493</td>\n",
       "      <td>0.01418</td>\n",
       "      <td>MedGen:CN169374</td>\n",
       "      <td>not_specified</td>\n",
       "      <td>NC_000001.10:g.957568A&gt;G</td>\n",
       "      <td>single_nucleotide_variant</td>\n",
       "      <td>AGRN:375790</td>\n",
       "      <td>SO:0001627|intron_variant</td>\n",
       "      <td>1.0</td>\n",
       "      <td>NaN</td>\n",
       "      <td>NaN</td>\n",
       "      <td>NaN</td>\n",
       "      <td>NaN</td>\n",
       "      <td>0</td>\n",
       "    </tr>\n",
       "    <tr>\n",
       "      <th>4</th>\n",
       "      <td>1</td>\n",
       "      <td>957640</td>\n",
       "      <td>C</td>\n",
       "      <td>T</td>\n",
       "      <td>0.03175</td>\n",
       "      <td>0.02016</td>\n",
       "      <td>0.03275</td>\n",
       "      <td>MedGen:C3808739,OMIM:615120|MedGen:CN169374</td>\n",
       "      <td>Myasthenic_syndrome,_congenital,_8|not_specified</td>\n",
       "      <td>NC_000001.10:g.957640C&gt;T</td>\n",
       "      <td>single_nucleotide_variant</td>\n",
       "      <td>AGRN:375790</td>\n",
       "      <td>SO:0001819|synonymous_variant</td>\n",
       "      <td>1.0</td>\n",
       "      <td>NaN</td>\n",
       "      <td>NaN</td>\n",
       "      <td>NaN</td>\n",
       "      <td>NaN</td>\n",
       "      <td>0</td>\n",
       "    </tr>\n",
       "  </tbody>\n",
       "</table>\n",
       "</div>"
      ],
      "text/plain": [
       "  CHROM     POS REF ALT   AF_ESP  AF_EXAC   AF_TGP  \\\n",
       "0     1  955563   G   C  0.00000  0.00114  0.00958   \n",
       "1     1  955597   G   T  0.00000  0.42418  0.28255   \n",
       "2     1  955619   G   C  0.00000  0.03475  0.00879   \n",
       "3     1  957568   A   G  0.01761  0.00493  0.01418   \n",
       "4     1  957640   C   T  0.03175  0.02016  0.03275   \n",
       "\n",
       "                                            CLNDISDB  \\\n",
       "0        MedGen:C3808739,OMIM:615120|MedGen:CN169374   \n",
       "1                                    MedGen:CN169374   \n",
       "2  MedGen:C3808739,OMIM:615120|MedGen:CN169374|Me...   \n",
       "3                                    MedGen:CN169374   \n",
       "4        MedGen:C3808739,OMIM:615120|MedGen:CN169374   \n",
       "\n",
       "                                               CLNDN  \\\n",
       "0   Myasthenic_syndrome,_congenital,_8|not_specified   \n",
       "1                                      not_specified   \n",
       "2  Myasthenic_syndrome,_congenital,_8|not_specifi...   \n",
       "3                                      not_specified   \n",
       "4   Myasthenic_syndrome,_congenital,_8|not_specified   \n",
       "\n",
       "                    CLNHGVS                      CLNVC     GENEINFO  \\\n",
       "0  NC_000001.10:g.955563G>C  single_nucleotide_variant  AGRN:375790   \n",
       "1  NC_000001.10:g.955597G>T  single_nucleotide_variant  AGRN:375790   \n",
       "2  NC_000001.10:g.955619G>C  single_nucleotide_variant  AGRN:375790   \n",
       "3  NC_000001.10:g.957568A>G  single_nucleotide_variant  AGRN:375790   \n",
       "4  NC_000001.10:g.957640C>T  single_nucleotide_variant  AGRN:375790   \n",
       "\n",
       "                              MC  ORIGIN CLNVI CLNDISDBINCL CLNDNINCL  \\\n",
       "0    SO:0001583|missense_variant     1.0   NaN          NaN       NaN   \n",
       "1  SO:0001819|synonymous_variant     1.0   NaN          NaN       NaN   \n",
       "2    SO:0001583|missense_variant     1.0   NaN          NaN       NaN   \n",
       "3      SO:0001627|intron_variant     1.0   NaN          NaN       NaN   \n",
       "4  SO:0001819|synonymous_variant     1.0   NaN          NaN       NaN   \n",
       "\n",
       "  CLNSIGINCL  CLASS  \n",
       "0        NaN      0  \n",
       "1        NaN      0  \n",
       "2        NaN      1  \n",
       "3        NaN      0  \n",
       "4        NaN      0  "
      ]
     },
     "execution_count": 10,
     "metadata": {},
     "output_type": "execute_result"
    }
   ],
   "source": [
    "df.head()"
   ]
  },
  {
   "cell_type": "code",
   "execution_count": 4,
   "metadata": {},
   "outputs": [],
   "source": [
    "# For loops"
   ]
  },
  {
   "cell_type": "code",
   "execution_count": 5,
   "metadata": {},
   "outputs": [],
   "source": [
    "# dictionaries"
   ]
  },
  {
   "cell_type": "code",
   "execution_count": null,
   "metadata": {},
   "outputs": [],
   "source": [
    "# functions in Python "
   ]
  },
  {
   "cell_type": "code",
   "execution_count": 9,
   "metadata": {},
   "outputs": [],
   "source": [
    "# missing values"
   ]
  },
  {
   "cell_type": "code",
   "execution_count": 8,
   "metadata": {},
   "outputs": [],
   "source": [
    "# one hot encoding"
   ]
  },
  {
   "cell_type": "code",
   "execution_count": 13,
   "metadata": {},
   "outputs": [],
   "source": [
    "# detecting anomalies"
   ]
  },
  {
   "cell_type": "code",
   "execution_count": 12,
   "metadata": {},
   "outputs": [],
   "source": [
    "# unit tests in Python"
   ]
  },
  {
   "cell_type": "code",
   "execution_count": 14,
   "metadata": {},
   "outputs": [],
   "source": [
    "# map reduce for feature engineering "
   ]
  },
  {
   "cell_type": "code",
   "execution_count": 6,
   "metadata": {},
   "outputs": [],
   "source": [
    "# plotting"
   ]
  },
  {
   "cell_type": "code",
   "execution_count": 7,
   "metadata": {},
   "outputs": [],
   "source": [
    "# correlation & decorrelation"
   ]
  },
  {
   "cell_type": "code",
   "execution_count": null,
   "metadata": {},
   "outputs": [],
   "source": [
    "# package your ETL code as an inference pipeline "
   ]
  },
  {
   "cell_type": "code",
   "execution_count": 10,
   "metadata": {},
   "outputs": [],
   "source": [
    "# splitting "
   ]
  },
  {
   "cell_type": "code",
   "execution_count": null,
   "metadata": {},
   "outputs": [],
   "source": []
  }
 ],
 "metadata": {
  "kernelspec": {
   "display_name": "conda_python3",
   "language": "python",
   "name": "conda_python3"
  },
  "language_info": {
   "codemirror_mode": {
    "name": "ipython",
    "version": 3
   },
   "file_extension": ".py",
   "mimetype": "text/x-python",
   "name": "python",
   "nbconvert_exporter": "python",
   "pygments_lexer": "ipython3",
   "version": "3.6.5"
  }
 },
 "nbformat": 4,
 "nbformat_minor": 2
}
